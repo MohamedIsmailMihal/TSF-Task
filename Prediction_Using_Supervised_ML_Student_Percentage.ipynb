{
  "nbformat": 4,
  "nbformat_minor": 0,
  "metadata": {
    "colab": {
      "name": "Prediction Using Supervised ML - Student Percentage.ipynb",
      "provenance": [],
      "authorship_tag": "ABX9TyN2umdl7uT/Yxr7KyqTTGMD",
      "include_colab_link": true
    },
    "kernelspec": {
      "name": "python3",
      "display_name": "Python 3"
    }
  },
  "cells": [
    {
      "cell_type": "markdown",
      "metadata": {
        "id": "view-in-github",
        "colab_type": "text"
      },
      "source": [
        "<a href=\"https://colab.research.google.com/github/MohamedIsmailMihal/TSF-Task/blob/main/Prediction_Using_Supervised_ML_Student_Percentage.ipynb\" target=\"_parent\"><img src=\"https://colab.research.google.com/assets/colab-badge.svg\" alt=\"Open In Colab\"/></a>"
      ]
    },
    {
      "cell_type": "markdown",
      "metadata": {
        "id": "B0sbqt-UAjuR"
      },
      "source": [
        "# **Prediction Using Supervised ML**\r\n",
        "This Basic Machine Learning Task can predict the percentage of a student based on the number of hours of study Using Linear Regression on two variables- Hours of study and Marks scored."
      ]
    },
    {
      "cell_type": "markdown",
      "metadata": {
        "id": "U_cDP7v4OXGw"
      },
      "source": [
        "Firstly, all the required libraries for the notebook is imported."
      ]
    },
    {
      "cell_type": "code",
      "metadata": {
        "id": "dqp8rdUnXH6R"
      },
      "source": [
        "import pandas as pd\r\n",
        "import numpy as np\r\n",
        "import matplotlib.pyplot as plt \r\n",
        "import seaborn as sns\r\n",
        "from sklearn.model_selection import train_test_split\r\n",
        "from sklearn.linear_model import LinearRegression\r\n",
        "from sklearn.metrics import mean_absolute_error"
      ],
      "execution_count": 124,
      "outputs": []
    },
    {
      "cell_type": "markdown",
      "metadata": {
        "id": "jW_wG8hpPIuw"
      },
      "source": [
        "Now, we use pandas to get the data from the csv file.\r\n",
        "\r\n",
        "> data.head() is used to show the first five values from the dataset.\r\n"
      ]
    },
    {
      "cell_type": "code",
      "metadata": {
        "colab": {
          "base_uri": "https://localhost:8080/",
          "height": 204
        },
        "id": "1g5egXGWXWa8",
        "outputId": "17dac737-c38e-4b7e-f005-0e32edd5a3a8"
      },
      "source": [
        "data = pd.read_csv('http://bit.ly/w-data')\r\n",
        "data.head()"
      ],
      "execution_count": 125,
      "outputs": [
        {
          "output_type": "execute_result",
          "data": {
            "text/html": [
              "<div>\n",
              "<style scoped>\n",
              "    .dataframe tbody tr th:only-of-type {\n",
              "        vertical-align: middle;\n",
              "    }\n",
              "\n",
              "    .dataframe tbody tr th {\n",
              "        vertical-align: top;\n",
              "    }\n",
              "\n",
              "    .dataframe thead th {\n",
              "        text-align: right;\n",
              "    }\n",
              "</style>\n",
              "<table border=\"1\" class=\"dataframe\">\n",
              "  <thead>\n",
              "    <tr style=\"text-align: right;\">\n",
              "      <th></th>\n",
              "      <th>Hours</th>\n",
              "      <th>Scores</th>\n",
              "    </tr>\n",
              "  </thead>\n",
              "  <tbody>\n",
              "    <tr>\n",
              "      <th>0</th>\n",
              "      <td>2.5</td>\n",
              "      <td>21</td>\n",
              "    </tr>\n",
              "    <tr>\n",
              "      <th>1</th>\n",
              "      <td>5.1</td>\n",
              "      <td>47</td>\n",
              "    </tr>\n",
              "    <tr>\n",
              "      <th>2</th>\n",
              "      <td>3.2</td>\n",
              "      <td>27</td>\n",
              "    </tr>\n",
              "    <tr>\n",
              "      <th>3</th>\n",
              "      <td>8.5</td>\n",
              "      <td>75</td>\n",
              "    </tr>\n",
              "    <tr>\n",
              "      <th>4</th>\n",
              "      <td>3.5</td>\n",
              "      <td>30</td>\n",
              "    </tr>\n",
              "  </tbody>\n",
              "</table>\n",
              "</div>"
            ],
            "text/plain": [
              "   Hours  Scores\n",
              "0    2.5      21\n",
              "1    5.1      47\n",
              "2    3.2      27\n",
              "3    8.5      75\n",
              "4    3.5      30"
            ]
          },
          "metadata": {
            "tags": []
          },
          "execution_count": 125
        }
      ]
    },
    {
      "cell_type": "markdown",
      "metadata": {
        "id": "wzW2cb1ZQFAY"
      },
      "source": [
        "This is to check if the dataset is empty or not"
      ]
    },
    {
      "cell_type": "code",
      "metadata": {
        "colab": {
          "base_uri": "https://localhost:8080/"
        },
        "id": "8dLY5R9GXauk",
        "outputId": "b7e50aca-cdc8-409c-c19d-698a7ed292af"
      },
      "source": [
        "data.isnull == True"
      ],
      "execution_count": 126,
      "outputs": [
        {
          "output_type": "execute_result",
          "data": {
            "text/plain": [
              "False"
            ]
          },
          "metadata": {
            "tags": []
          },
          "execution_count": 126
        }
      ]
    },
    {
      "cell_type": "markdown",
      "metadata": {
        "id": "aHYIcskbQTm5"
      },
      "source": [
        "We have three plots in this notebook, the first plot is simply the plot of given data in the dataset."
      ]
    },
    {
      "cell_type": "code",
      "metadata": {
        "colab": {
          "base_uri": "https://localhost:8080/",
          "height": 295
        },
        "id": "aoO9DYe-Xb3K",
        "outputId": "78f69a7e-1b45-4e43-bb79-00eea3bad72a"
      },
      "source": [
        "sns.set_style('whitegrid')\r\n",
        "sns.scatterplot(y= data['Scores'], x= data['Hours'])\r\n",
        "plt.title('Marks Obtained Vs Hours of Study')\r\n",
        "plt.ylabel('Marks Percentage')\r\n",
        "plt.xlabel('Hours of Study')\r\n",
        "plt.show()"
      ],
      "execution_count": 127,
      "outputs": [
        {
          "output_type": "display_data",
          "data": {
            "image/png": "[encoded data removed]",
            "text/plain": [
              "<Figure size 432x288 with 1 Axes>"
            ]
          },
          "metadata": {
            "tags": []
          }
        }
      ]
    },
    {
      "cell_type": "markdown",
      "metadata": {
        "id": "tgOFOLp_RC-b"
      },
      "source": [
        "The second plot is the regression plot which gives the user a visual guide to emphasize the patterns in the dataset."
      ]
    },
    {
      "cell_type": "code",
      "metadata": {
        "colab": {
          "base_uri": "https://localhost:8080/",
          "height": 346
        },
        "id": "a69IHnz8Xfhh",
        "outputId": "177b3e12-578b-4bf8-8883-a38957066c1a"
      },
      "source": [
        "sns.regplot(x= data['Hours'], y= data['Scores'])\r\n",
        "plt.title('Regression Plot')\r\n",
        "plt.ylabel('Marks Percentage')\r\n",
        "plt.xlabel('Hours of Study')\r\n",
        "plt.show()\r\n",
        "print(data.corr())"
      ],
      "execution_count": 128,
      "outputs": [
        {
          "output_type": "display_data",
          "data": {
            "image/png": "[encoded data removed]",
            "text/plain": [
              "<Figure size 432x288 with 1 Axes>"
            ]
          },
          "metadata": {
            "tags": []
          }
        },
        {
          "output_type": "stream",
          "text": [
            "           Hours    Scores\n",
            "Hours   1.000000  0.976191\n",
            "Scores  0.976191  1.000000\n"
          ],
          "name": "stdout"
        }
      ]
    },
    {
      "cell_type": "markdown",
      "metadata": {
        "id": "-s3ZQzzjRtyt"
      },
      "source": [
        "Now, we divide the data into labels and attributes and then, we split the dataset into training sets and test sets."
      ]
    },
    {
      "cell_type": "code",
      "metadata": {
        "id": "yLTjlZLfXjS0"
      },
      "source": [
        "X = data.iloc[:, :-1].values  \r\n",
        "y = data.iloc[:, 1].values\r\n",
        "\r\n",
        "train_X, test_X, train_y, test_y = train_test_split(X, y, test_size=0.2, random_state = 0)"
      ],
      "execution_count": 129,
      "outputs": []
    },
    {
      "cell_type": "markdown",
      "metadata": {
        "id": "bLHbnbAacpN0"
      },
      "source": [
        "This is the actual machine learning part of this notebook, the function LinearRegression() from sklearn is used to train the algorithm."
      ]
    },
    {
      "cell_type": "code",
      "metadata": {
        "colab": {
          "base_uri": "https://localhost:8080/"
        },
        "id": "AZUk05gFYQLo",
        "outputId": "cb84cced-c26b-4fb2-ca2b-b2c6c52b53e1"
      },
      "source": [
        "rtrain= LinearRegression()\r\n",
        "rtrain.fit(train_X, train_y)\r\n",
        "print(\"Completed Algorithm Training\")"
      ],
      "execution_count": 130,
      "outputs": [
        {
          "output_type": "stream",
          "text": [
            "Completed Algorithm Training\n"
          ],
          "name": "stdout"
        }
      ]
    },
    {
      "cell_type": "markdown",
      "metadata": {
        "id": "OqxtTfeRdiSX"
      },
      "source": [
        "Now that we have our trained model, we shall now use it to try and predict the testing dataset"
      ]
    },
    {
      "cell_type": "code",
      "metadata": {
        "colab": {
          "base_uri": "https://localhost:8080/",
          "height": 204
        },
        "id": "fwHivLXTYWc_",
        "outputId": "10ecec34-0862-4395-ae14-54e3d4af90bf"
      },
      "source": [
        "predict_y = rtrain.predict(test_X)\r\n",
        "p = pd.DataFrame({'Hours of Study': [i[0] for i in test_X], 'Predicted Marks': [k for k in predict_y]})\r\n",
        "p"
      ],
      "execution_count": 131,
      "outputs": [
        {
          "output_type": "execute_result",
          "data": {
            "text/html": [
              "<div>\n",
              "<style scoped>\n",
              "    .dataframe tbody tr th:only-of-type {\n",
              "        vertical-align: middle;\n",
              "    }\n",
              "\n",
              "    .dataframe tbody tr th {\n",
              "        vertical-align: top;\n",
              "    }\n",
              "\n",
              "    .dataframe thead th {\n",
              "        text-align: right;\n",
              "    }\n",
              "</style>\n",
              "<table border=\"1\" class=\"dataframe\">\n",
              "  <thead>\n",
              "    <tr style=\"text-align: right;\">\n",
              "      <th></th>\n",
              "      <th>Hours of Study</th>\n",
              "      <th>Predicted Marks</th>\n",
              "    </tr>\n",
              "  </thead>\n",
              "  <tbody>\n",
              "    <tr>\n",
              "      <th>0</th>\n",
              "      <td>1.5</td>\n",
              "      <td>16.884145</td>\n",
              "    </tr>\n",
              "    <tr>\n",
              "      <th>1</th>\n",
              "      <td>3.2</td>\n",
              "      <td>33.732261</td>\n",
              "    </tr>\n",
              "    <tr>\n",
              "      <th>2</th>\n",
              "      <td>7.4</td>\n",
              "      <td>75.357018</td>\n",
              "    </tr>\n",
              "    <tr>\n",
              "      <th>3</th>\n",
              "      <td>2.5</td>\n",
              "      <td>26.794801</td>\n",
              "    </tr>\n",
              "    <tr>\n",
              "      <th>4</th>\n",
              "      <td>5.9</td>\n",
              "      <td>60.491033</td>\n",
              "    </tr>\n",
              "  </tbody>\n",
              "</table>\n",
              "</div>"
            ],
            "text/plain": [
              "   Hours of Study  Predicted Marks\n",
              "0             1.5        16.884145\n",
              "1             3.2        33.732261\n",
              "2             7.4        75.357018\n",
              "3             2.5        26.794801\n",
              "4             5.9        60.491033"
            ]
          },
          "metadata": {
            "tags": []
          },
          "execution_count": 131
        }
      ]
    },
    {
      "cell_type": "markdown",
      "metadata": {
        "id": "vIGePpy4h8y5"
      },
      "source": [
        "Next, we shall compare the predicted marks with the actual data from the test set. "
      ]
    },
    {
      "cell_type": "code",
      "metadata": {
        "colab": {
          "base_uri": "https://localhost:8080/",
          "height": 204
        },
        "id": "ptXOrCOuYefR",
        "outputId": "e192efcd-35d8-4fad-c14f-392f6b66a6f5"
      },
      "source": [
        "cmpn = pd.DataFrame({'Actual Marks': test_y, 'Predicted Marks': predict_y})\r\n",
        "cmpn"
      ],
      "execution_count": 132,
      "outputs": [
        {
          "output_type": "execute_result",
          "data": {
            "text/html": [
              "<div>\n",
              "<style scoped>\n",
              "    .dataframe tbody tr th:only-of-type {\n",
              "        vertical-align: middle;\n",
              "    }\n",
              "\n",
              "    .dataframe tbody tr th {\n",
              "        vertical-align: top;\n",
              "    }\n",
              "\n",
              "    .dataframe thead th {\n",
              "        text-align: right;\n",
              "    }\n",
              "</style>\n",
              "<table border=\"1\" class=\"dataframe\">\n",
              "  <thead>\n",
              "    <tr style=\"text-align: right;\">\n",
              "      <th></th>\n",
              "      <th>Actual Marks</th>\n",
              "      <th>Predicted Marks</th>\n",
              "    </tr>\n",
              "  </thead>\n",
              "  <tbody>\n",
              "    <tr>\n",
              "      <th>0</th>\n",
              "      <td>20</td>\n",
              "      <td>16.884145</td>\n",
              "    </tr>\n",
              "    <tr>\n",
              "      <th>1</th>\n",
              "      <td>27</td>\n",
              "      <td>33.732261</td>\n",
              "    </tr>\n",
              "    <tr>\n",
              "      <th>2</th>\n",
              "      <td>69</td>\n",
              "      <td>75.357018</td>\n",
              "    </tr>\n",
              "    <tr>\n",
              "      <th>3</th>\n",
              "      <td>30</td>\n",
              "      <td>26.794801</td>\n",
              "    </tr>\n",
              "    <tr>\n",
              "      <th>4</th>\n",
              "      <td>62</td>\n",
              "      <td>60.491033</td>\n",
              "    </tr>\n",
              "  </tbody>\n",
              "</table>\n",
              "</div>"
            ],
            "text/plain": [
              "   Actual Marks  Predicted Marks\n",
              "0            20        16.884145\n",
              "1            27        33.732261\n",
              "2            69        75.357018\n",
              "3            30        26.794801\n",
              "4            62        60.491033"
            ]
          },
          "metadata": {
            "tags": []
          },
          "execution_count": 132
        }
      ]
    },
    {
      "cell_type": "markdown",
      "metadata": {
        "id": "7_KcXO5siVm-"
      },
      "source": [
        "The third plot of this notebook is the visualization of the above comparison."
      ]
    },
    {
      "cell_type": "code",
      "metadata": {
        "colab": {
          "base_uri": "https://localhost:8080/",
          "height": 295
        },
        "id": "KKXtNyEFYgZW",
        "outputId": "d7c3f896-149b-4bd2-c779-b540bdc55a62"
      },
      "source": [
        "plt.scatter(x=test_X, y=test_y)\r\n",
        "plt.plot(test_X, predict_y, color='Black')\r\n",
        "plt.title('Actual Marks vs Predicted Marks')\r\n",
        "plt.ylabel('Marks Percentage')\r\n",
        "plt.xlabel('Hours of Study')\r\n",
        "plt.show()"
      ],
      "execution_count": 133,
      "outputs": [
        {
          "output_type": "display_data",
          "data": {
            "image/png": "[encoded data removed]",
            "text/plain": [
              "<Figure size 432x288 with 1 Axes>"
            ]
          },
          "metadata": {
            "tags": []
          }
        }
      ]
    },
    {
      "cell_type": "markdown",
      "metadata": {
        "id": "y-vwU2_kjmuG"
      },
      "source": [
        "Finally, The actual test with values from the question\r\n",
        "> \"What will be the predicted score if a student studies 9.25 hours a day?\"\r\n",
        "\r\n",
        "\r\n"
      ]
    },
    {
      "cell_type": "code",
      "metadata": {
        "colab": {
          "base_uri": "https://localhost:8080/"
        },
        "id": "awvNTT00YwBf",
        "outputId": "f97025e8-12aa-4f80-ccc1-1fc1c6a36347"
      },
      "source": [
        "hours = [9.25]\r\n",
        "predicted_val = rtrain.predict([hours])\r\n",
        "print(\"Predicted Score for {} hours\".format(hours[0]),end=\" \") \r\n",
        "print(\"of study= {}\".format(predicted_val[0],6))"
      ],
      "execution_count": 134,
      "outputs": [
        {
          "output_type": "stream",
          "text": [
            "Predicted Score for 9.25 hours of study= 93.69173248737539\n"
          ],
          "name": "stdout"
        }
      ]
    },
    {
      "cell_type": "markdown",
      "metadata": {
        "id": "Gl-jUFZik943"
      },
      "source": [
        "Also, the performance of our model based on Mean Absolute Error"
      ]
    },
    {
      "cell_type": "code",
      "metadata": {
        "colab": {
          "base_uri": "https://localhost:8080/"
        },
        "id": "AKSbudh0YrgA",
        "outputId": "befbe37d-a4ea-4315-9e35-3ce0d474f92b"
      },
      "source": [
        "print(\"Mean absolute error: \",mean_absolute_error(test_y,predict_y))"
      ],
      "execution_count": 135,
      "outputs": [
        {
          "output_type": "stream",
          "text": [
            "Mean absolute error:  4.183859899002982\n"
          ],
          "name": "stdout"
        }
      ]
    }
  ]
}